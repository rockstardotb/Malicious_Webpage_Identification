{
 "cells": [
  {
   "cell_type": "markdown",
   "metadata": {},
   "source": [
    "# <p style=\"text-align: center;\">Final Project - Malicious Webpage Identification</p>\n",
    "### <p style=\"text-align: center;\">University of Denver</p>\n",
    "### <p style=\"text-align: center;\">Alex Liddle</p>"
   ]
  },
  {
   "cell_type": "markdown",
   "metadata": {},
   "source": [
    "### Motivation\n",
    "As advancements in technology increase, so do cybersecurity threats. One step to avoiding these threats are to identify malicious webpages so they can be avoid. There are many algorithms in place to do this. This project is another approach involving the use of machine learning to quickly and accurately identify webpages that pose a threat."
   ]
  },
  {
   "cell_type": "code",
   "execution_count": 1,
   "metadata": {},
   "outputs": [],
   "source": [
    "import nltk\n",
    "import string\n",
    "import re\n",
    "import sklearn\n",
    "import pandas as pd\n",
    "from tqdm import tqdm\n",
    "import matplotlib.pyplot as plt\n",
    "from sklearn.model_selection import train_test_split, GridSearchCV\n",
    "from sklearn.preprocessing import StandardScaler, OrdinalEncoder\n",
    "from sklearn.cluster import MiniBatchKMeans\n",
    "from sklearn.tree import DecisionTreeClassifier\n",
    "from sklearn.ensemble import RandomForestClassifier\n",
    "from sklearn.metrics import accuracy_score\n",
    "from sklearn.feature_extraction.text import TfidfVectorizer\n",
    "from sklearn.pipeline import Pipeline\n",
    "from scipy import stats\n",
    "#nltk.download('stopwords') #<---uncomment if you haven't downloaded the stopwords library\n",
    "from nltk.corpus import stopwords\n",
    "from nltk.tokenize import word_tokenize\n",
    "\n",
    "import warnings\n",
    "warnings.simplefilter(action='ignore', category=FutureWarning)"
   ]
  },
  {
   "cell_type": "markdown",
   "metadata": {},
   "source": [
    "### Import the dataset"
   ]
  },
  {
   "cell_type": "markdown",
   "metadata": {},
   "source": [
    "The dataset can be found on kaggle at https://www.kaggle.com/aksingh2411/dataset-of-malicious-and-benign-webpages. The dataset contains many columns consisting of attributes that include the url, results of the who_is command, javascript, and raw text content. Sites were labeled as either malicious or benign using the Google Safe Browsing API."
   ]
  },
  {
   "cell_type": "code",
   "execution_count": 2,
   "metadata": {},
   "outputs": [],
   "source": [
    "# Loade dataset into a pandas dataframe\n",
    "df_reviews_raw = pd.read_csv('webpages.csv').drop(['Unnamed: 0'], axis=1)"
   ]
  },
  {
   "cell_type": "code",
   "execution_count": 3,
   "metadata": {},
   "outputs": [
    {
     "data": {
      "text/plain": [
       "url           0\n",
       "url_len       0\n",
       "ip_add        0\n",
       "geo_loc       0\n",
       "tld           0\n",
       "who_is        0\n",
       "https         0\n",
       "js_len        0\n",
       "js_obf_len    0\n",
       "content       0\n",
       "label         0\n",
       "dtype: int64"
      ]
     },
     "execution_count": 3,
     "metadata": {},
     "output_type": "execute_result"
    }
   ],
   "source": [
    "# Inspect for missing values\n",
    "df_reviews_raw.isna().sum()"
   ]
  },
  {
   "cell_type": "code",
   "execution_count": 4,
   "metadata": {},
   "outputs": [
    {
     "data": {
      "text/plain": [
       "url            object\n",
       "url_len         int64\n",
       "ip_add         object\n",
       "geo_loc        object\n",
       "tld            object\n",
       "who_is         object\n",
       "https          object\n",
       "js_len        float64\n",
       "js_obf_len    float64\n",
       "content        object\n",
       "label          object\n",
       "dtype: object"
      ]
     },
     "execution_count": 4,
     "metadata": {},
     "output_type": "execute_result"
    }
   ],
   "source": [
    "# Check data types\n",
    "df_reviews_raw.dtypes"
   ]
  },
  {
   "cell_type": "code",
   "execution_count": 5,
   "metadata": {},
   "outputs": [
    {
     "data": {
      "text/html": [
       "<div>\n",
       "<style scoped>\n",
       "    .dataframe tbody tr th:only-of-type {\n",
       "        vertical-align: middle;\n",
       "    }\n",
       "\n",
       "    .dataframe tbody tr th {\n",
       "        vertical-align: top;\n",
       "    }\n",
       "\n",
       "    .dataframe thead th {\n",
       "        text-align: right;\n",
       "    }\n",
       "</style>\n",
       "<table border=\"1\" class=\"dataframe\">\n",
       "  <thead>\n",
       "    <tr style=\"text-align: right;\">\n",
       "      <th></th>\n",
       "      <th>url</th>\n",
       "      <th>url_len</th>\n",
       "      <th>ip_add</th>\n",
       "      <th>geo_loc</th>\n",
       "      <th>tld</th>\n",
       "      <th>who_is</th>\n",
       "      <th>https</th>\n",
       "      <th>js_len</th>\n",
       "      <th>js_obf_len</th>\n",
       "      <th>content</th>\n",
       "      <th>label</th>\n",
       "    </tr>\n",
       "  </thead>\n",
       "  <tbody>\n",
       "    <tr>\n",
       "      <th>0</th>\n",
       "      <td>http://members.tripod.com/russiastation/</td>\n",
       "      <td>40</td>\n",
       "      <td>42.77.221.155</td>\n",
       "      <td>Taiwan</td>\n",
       "      <td>com</td>\n",
       "      <td>complete</td>\n",
       "      <td>yes</td>\n",
       "      <td>58.0</td>\n",
       "      <td>0.0</td>\n",
       "      <td>Named themselves charged particles in a manly ...</td>\n",
       "      <td>good</td>\n",
       "    </tr>\n",
       "    <tr>\n",
       "      <th>1</th>\n",
       "      <td>http://www.ddj.com/cpp/184403822</td>\n",
       "      <td>32</td>\n",
       "      <td>3.211.202.180</td>\n",
       "      <td>United States</td>\n",
       "      <td>com</td>\n",
       "      <td>complete</td>\n",
       "      <td>yes</td>\n",
       "      <td>52.5</td>\n",
       "      <td>0.0</td>\n",
       "      <td>And filipino field \\n \\n \\n \\n \\n \\n \\n \\n the...</td>\n",
       "      <td>good</td>\n",
       "    </tr>\n",
       "    <tr>\n",
       "      <th>2</th>\n",
       "      <td>http://www.naef-usa.com/</td>\n",
       "      <td>24</td>\n",
       "      <td>24.232.54.41</td>\n",
       "      <td>Argentina</td>\n",
       "      <td>com</td>\n",
       "      <td>complete</td>\n",
       "      <td>yes</td>\n",
       "      <td>103.5</td>\n",
       "      <td>0.0</td>\n",
       "      <td>Took in cognitivism, whose adherents argue for...</td>\n",
       "      <td>good</td>\n",
       "    </tr>\n",
       "    <tr>\n",
       "      <th>3</th>\n",
       "      <td>http://www.ff-b2b.de/</td>\n",
       "      <td>21</td>\n",
       "      <td>147.22.38.45</td>\n",
       "      <td>United States</td>\n",
       "      <td>de</td>\n",
       "      <td>incomplete</td>\n",
       "      <td>no</td>\n",
       "      <td>720.0</td>\n",
       "      <td>532.8</td>\n",
       "      <td>fire cumshot sodomize footaction tortur failed...</td>\n",
       "      <td>bad</td>\n",
       "    </tr>\n",
       "    <tr>\n",
       "      <th>4</th>\n",
       "      <td>http://us.imdb.com/title/tt0176269/</td>\n",
       "      <td>35</td>\n",
       "      <td>205.30.239.85</td>\n",
       "      <td>United States</td>\n",
       "      <td>com</td>\n",
       "      <td>complete</td>\n",
       "      <td>yes</td>\n",
       "      <td>46.5</td>\n",
       "      <td>0.0</td>\n",
       "      <td>Levant, also monsignor georges. In 1800, lists...</td>\n",
       "      <td>good</td>\n",
       "    </tr>\n",
       "  </tbody>\n",
       "</table>\n",
       "</div>"
      ],
      "text/plain": [
       "                                        url  url_len         ip_add  \\\n",
       "0  http://members.tripod.com/russiastation/       40  42.77.221.155   \n",
       "1          http://www.ddj.com/cpp/184403822       32  3.211.202.180   \n",
       "2                  http://www.naef-usa.com/       24   24.232.54.41   \n",
       "3                     http://www.ff-b2b.de/       21   147.22.38.45   \n",
       "4       http://us.imdb.com/title/tt0176269/       35  205.30.239.85   \n",
       "\n",
       "         geo_loc  tld      who_is https  js_len  js_obf_len  \\\n",
       "0         Taiwan  com    complete   yes    58.0         0.0   \n",
       "1  United States  com    complete   yes    52.5         0.0   \n",
       "2      Argentina  com    complete   yes   103.5         0.0   \n",
       "3  United States   de  incomplete    no   720.0       532.8   \n",
       "4  United States  com    complete   yes    46.5         0.0   \n",
       "\n",
       "                                             content label  \n",
       "0  Named themselves charged particles in a manly ...  good  \n",
       "1  And filipino field \\n \\n \\n \\n \\n \\n \\n \\n the...  good  \n",
       "2  Took in cognitivism, whose adherents argue for...  good  \n",
       "3  fire cumshot sodomize footaction tortur failed...   bad  \n",
       "4  Levant, also monsignor georges. In 1800, lists...  good  "
      ]
     },
     "execution_count": 5,
     "metadata": {},
     "output_type": "execute_result"
    }
   ],
   "source": [
    "# Inspect a small sample\n",
    "df_reviews_raw.head()"
   ]
  },
  {
   "cell_type": "markdown",
   "metadata": {},
   "source": [
    "### Clean the data"
   ]
  },
  {
   "cell_type": "markdown",
   "metadata": {},
   "source": [
    "The data must be cleaned and transformed into a format that the machine learning algorithms further down in this notebook expect. Furthermore, there should be a uniform distribution of labels."
   ]
  },
  {
   "cell_type": "code",
   "execution_count": 6,
   "metadata": {},
   "outputs": [
    {
     "data": {
      "text/plain": [
       "count     1200000\n",
       "unique          2\n",
       "top          good\n",
       "freq      1172747\n",
       "Name: label, dtype: object"
      ]
     },
     "execution_count": 6,
     "metadata": {},
     "output_type": "execute_result"
    }
   ],
   "source": [
    "# Check the label distribution\n",
    "df_reviews_raw.label.describe()"
   ]
  },
  {
   "cell_type": "code",
   "execution_count": 7,
   "metadata": {},
   "outputs": [
    {
     "data": {
      "text/plain": [
       "count     49323\n",
       "unique        2\n",
       "top         bad\n",
       "freq      24963\n",
       "Name: label, dtype: object"
      ]
     },
     "execution_count": 7,
     "metadata": {},
     "output_type": "execute_result"
    }
   ],
   "source": [
    "# Get an equally distributed sample\n",
    "df_reviews_untrimmed_sample = df_reviews_raw.groupby('label').apply(lambda x: x.sample(25000)).reset_index(drop=True)\n",
    "# Remove if content has less than 60 words\n",
    "df_reviews_trimmed = df_reviews_untrimmed_sample[df_reviews_untrimmed_sample.content.str.split().str.len().ge(60)]\n",
    "df_reviews_trimmed.label.describe()"
   ]
  },
  {
   "cell_type": "code",
   "execution_count": 39,
   "metadata": {},
   "outputs": [
    {
     "data": {
      "text/plain": [
       "count     4000\n",
       "unique       2\n",
       "top        bad\n",
       "freq      2000\n",
       "Name: label, dtype: object"
      ]
     },
     "execution_count": 39,
     "metadata": {},
     "output_type": "execute_result"
    }
   ],
   "source": [
    "# Resample trimmed dataframe to make it uniformly distributed\n",
    "df_reviews_sampled = df_reviews_trimmed.groupby('label').apply(lambda x: x.sample(2000)).reset_index(drop=True)\n",
    "# Randomly shuffle rows for aesthetics\n",
    "df_reviews = df_reviews_sampled.sample(frac=1).reset_index(drop=True)\n",
    "df_reviews.label.describe()"
   ]
  },
  {
   "cell_type": "markdown",
   "metadata": {},
   "source": [
    "### Examine the data"
   ]
  },
  {
   "cell_type": "code",
   "execution_count": 40,
   "metadata": {},
   "outputs": [
    {
     "data": {
      "text/html": [
       "<div>\n",
       "<style scoped>\n",
       "    .dataframe tbody tr th:only-of-type {\n",
       "        vertical-align: middle;\n",
       "    }\n",
       "\n",
       "    .dataframe tbody tr th {\n",
       "        vertical-align: top;\n",
       "    }\n",
       "\n",
       "    .dataframe thead th {\n",
       "        text-align: right;\n",
       "    }\n",
       "</style>\n",
       "<table border=\"1\" class=\"dataframe\">\n",
       "  <thead>\n",
       "    <tr style=\"text-align: right;\">\n",
       "      <th></th>\n",
       "      <th>url</th>\n",
       "      <th>url_len</th>\n",
       "      <th>ip_add</th>\n",
       "      <th>geo_loc</th>\n",
       "      <th>tld</th>\n",
       "      <th>who_is</th>\n",
       "      <th>https</th>\n",
       "      <th>js_len</th>\n",
       "      <th>js_obf_len</th>\n",
       "      <th>content</th>\n",
       "      <th>label</th>\n",
       "    </tr>\n",
       "  </thead>\n",
       "  <tbody>\n",
       "    <tr>\n",
       "      <th>0</th>\n",
       "      <td>http://www.ashg.org/</td>\n",
       "      <td>20</td>\n",
       "      <td>136.242.100.106</td>\n",
       "      <td>United States</td>\n",
       "      <td>org</td>\n",
       "      <td>complete</td>\n",
       "      <td>yes</td>\n",
       "      <td>92.5</td>\n",
       "      <td>0.000</td>\n",
       "      <td>Lionel messi, overthrow of ferdinand vii durin...</td>\n",
       "      <td>good</td>\n",
       "    </tr>\n",
       "    <tr>\n",
       "      <th>1</th>\n",
       "      <td>http://www.lara-uk.com/</td>\n",
       "      <td>23</td>\n",
       "      <td>115.27.204.145</td>\n",
       "      <td>China</td>\n",
       "      <td>com</td>\n",
       "      <td>incomplete</td>\n",
       "      <td>no</td>\n",
       "      <td>553.5</td>\n",
       "      <td>326.565</td>\n",
       "      <td>limey nigger's vulva fingerfucking xtc horsesh...</td>\n",
       "      <td>bad</td>\n",
       "    </tr>\n",
       "    <tr>\n",
       "      <th>2</th>\n",
       "      <td>http://www.geocities.com/televisioncity/statio...</td>\n",
       "      <td>72</td>\n",
       "      <td>56.73.49.49</td>\n",
       "      <td>United States</td>\n",
       "      <td>com</td>\n",
       "      <td>incomplete</td>\n",
       "      <td>no</td>\n",
       "      <td>0.0</td>\n",
       "      <td>0.000</td>\n",
       "      <td>liquor pissed moneyshot jacktheripper communis...</td>\n",
       "      <td>bad</td>\n",
       "    </tr>\n",
       "    <tr>\n",
       "      <th>3</th>\n",
       "      <td>http://www.fortunecity.com/roswell/streiber/27...</td>\n",
       "      <td>66</td>\n",
       "      <td>5.196.23.61</td>\n",
       "      <td>France</td>\n",
       "      <td>com</td>\n",
       "      <td>incomplete</td>\n",
       "      <td>yes</td>\n",
       "      <td>90.5</td>\n",
       "      <td>0.000</td>\n",
       "      <td>Inform personal consequences that. Of cultures...</td>\n",
       "      <td>good</td>\n",
       "    </tr>\n",
       "    <tr>\n",
       "      <th>4</th>\n",
       "      <td>http://www.svrpage.net/</td>\n",
       "      <td>23</td>\n",
       "      <td>186.121.242.190</td>\n",
       "      <td>Bolivia</td>\n",
       "      <td>net</td>\n",
       "      <td>incomplete</td>\n",
       "      <td>no</td>\n",
       "      <td>540.9</td>\n",
       "      <td>340.767</td>\n",
       "      <td>fucktard boom fuckers testicles dumb tinkle ho...</td>\n",
       "      <td>bad</td>\n",
       "    </tr>\n",
       "  </tbody>\n",
       "</table>\n",
       "</div>"
      ],
      "text/plain": [
       "                                                 url  url_len  \\\n",
       "0                               http://www.ashg.org/       20   \n",
       "1                            http://www.lara-uk.com/       23   \n",
       "2  http://www.geocities.com/televisioncity/statio...       72   \n",
       "3  http://www.fortunecity.com/roswell/streiber/27...       66   \n",
       "4                            http://www.svrpage.net/       23   \n",
       "\n",
       "            ip_add        geo_loc  tld      who_is https  js_len  js_obf_len  \\\n",
       "0  136.242.100.106  United States  org    complete   yes    92.5       0.000   \n",
       "1   115.27.204.145          China  com  incomplete    no   553.5     326.565   \n",
       "2      56.73.49.49  United States  com  incomplete    no     0.0       0.000   \n",
       "3      5.196.23.61         France  com  incomplete   yes    90.5       0.000   \n",
       "4  186.121.242.190        Bolivia  net  incomplete    no   540.9     340.767   \n",
       "\n",
       "                                             content label  \n",
       "0  Lionel messi, overthrow of ferdinand vii durin...  good  \n",
       "1  limey nigger's vulva fingerfucking xtc horsesh...   bad  \n",
       "2  liquor pissed moneyshot jacktheripper communis...   bad  \n",
       "3  Inform personal consequences that. Of cultures...  good  \n",
       "4  fucktard boom fuckers testicles dumb tinkle ho...   bad  "
      ]
     },
     "execution_count": 40,
     "metadata": {},
     "output_type": "execute_result"
    }
   ],
   "source": [
    "df_reviews.head()"
   ]
  },
  {
   "cell_type": "code",
   "execution_count": 41,
   "metadata": {},
   "outputs": [
    {
     "data": {
      "text/html": [
       "<div>\n",
       "<style scoped>\n",
       "    .dataframe tbody tr th:only-of-type {\n",
       "        vertical-align: middle;\n",
       "    }\n",
       "\n",
       "    .dataframe tbody tr th {\n",
       "        vertical-align: top;\n",
       "    }\n",
       "\n",
       "    .dataframe thead th {\n",
       "        text-align: right;\n",
       "    }\n",
       "</style>\n",
       "<table border=\"1\" class=\"dataframe\">\n",
       "  <thead>\n",
       "    <tr style=\"text-align: right;\">\n",
       "      <th></th>\n",
       "      <th>geo_loc</th>\n",
       "      <th>tld</th>\n",
       "      <th>who_is</th>\n",
       "      <th>https</th>\n",
       "      <th>label</th>\n",
       "    </tr>\n",
       "  </thead>\n",
       "  <tbody>\n",
       "    <tr>\n",
       "      <th>count</th>\n",
       "      <td>4000</td>\n",
       "      <td>4000</td>\n",
       "      <td>4000</td>\n",
       "      <td>4000</td>\n",
       "      <td>4000</td>\n",
       "    </tr>\n",
       "    <tr>\n",
       "      <th>unique</th>\n",
       "      <td>119</td>\n",
       "      <td>110</td>\n",
       "      <td>2</td>\n",
       "      <td>2</td>\n",
       "      <td>2</td>\n",
       "    </tr>\n",
       "    <tr>\n",
       "      <th>top</th>\n",
       "      <td>United States</td>\n",
       "      <td>com</td>\n",
       "      <td>incomplete</td>\n",
       "      <td>no</td>\n",
       "      <td>bad</td>\n",
       "    </tr>\n",
       "    <tr>\n",
       "      <th>freq</th>\n",
       "      <td>1720</td>\n",
       "      <td>2652</td>\n",
       "      <td>2187</td>\n",
       "      <td>2177</td>\n",
       "      <td>2000</td>\n",
       "    </tr>\n",
       "  </tbody>\n",
       "</table>\n",
       "</div>"
      ],
      "text/plain": [
       "              geo_loc   tld      who_is https label\n",
       "count            4000  4000        4000  4000  4000\n",
       "unique            119   110           2     2     2\n",
       "top     United States   com  incomplete    no   bad\n",
       "freq             1720  2652        2187  2177  2000"
      ]
     },
     "execution_count": 41,
     "metadata": {},
     "output_type": "execute_result"
    }
   ],
   "source": [
    "df_reviews[['geo_loc', 'tld','who_is','https', 'label']].describe()"
   ]
  },
  {
   "cell_type": "markdown",
   "metadata": {},
   "source": [
    "### Text Preprocessing"
   ]
  },
  {
   "cell_type": "markdown",
   "metadata": {},
   "source": [
    "To use our decision tree and random forest models, the data will need to be in a numerical format. As the value of one row with respect to another doesn't have an affect on either algorithm's decision when splitting a node (they are considered categorical variables), I will use ordinal encoding to transform the geo_loc, tld, who_is, https, and label columns. Meanwhile, natural language processing will be performed on the url and content columns."
   ]
  },
  {
   "cell_type": "code",
   "execution_count": 42,
   "metadata": {},
   "outputs": [
    {
     "data": {
      "text/html": [
       "<div>\n",
       "<style scoped>\n",
       "    .dataframe tbody tr th:only-of-type {\n",
       "        vertical-align: middle;\n",
       "    }\n",
       "\n",
       "    .dataframe tbody tr th {\n",
       "        vertical-align: top;\n",
       "    }\n",
       "\n",
       "    .dataframe thead th {\n",
       "        text-align: right;\n",
       "    }\n",
       "</style>\n",
       "<table border=\"1\" class=\"dataframe\">\n",
       "  <thead>\n",
       "    <tr style=\"text-align: right;\">\n",
       "      <th></th>\n",
       "      <th>url</th>\n",
       "      <th>url_len</th>\n",
       "      <th>ip_add</th>\n",
       "      <th>geo_loc</th>\n",
       "      <th>tld</th>\n",
       "      <th>who_is</th>\n",
       "      <th>https</th>\n",
       "      <th>js_len</th>\n",
       "      <th>js_obf_len</th>\n",
       "      <th>content</th>\n",
       "      <th>label</th>\n",
       "    </tr>\n",
       "  </thead>\n",
       "  <tbody>\n",
       "    <tr>\n",
       "      <th>0</th>\n",
       "      <td>ashg org</td>\n",
       "      <td>20</td>\n",
       "      <td>136.242.100.106</td>\n",
       "      <td>114.0</td>\n",
       "      <td>86.0</td>\n",
       "      <td>0.0</td>\n",
       "      <td>1.0</td>\n",
       "      <td>92.5</td>\n",
       "      <td>0.000</td>\n",
       "      <td>Lionel messi, overthrow of ferdinand vii durin...</td>\n",
       "      <td>1.0</td>\n",
       "    </tr>\n",
       "    <tr>\n",
       "      <th>1</th>\n",
       "      <td>lara-uk com</td>\n",
       "      <td>23</td>\n",
       "      <td>115.27.204.145</td>\n",
       "      <td>20.0</td>\n",
       "      <td>26.0</td>\n",
       "      <td>1.0</td>\n",
       "      <td>0.0</td>\n",
       "      <td>553.5</td>\n",
       "      <td>326.565</td>\n",
       "      <td>limey nigger's vulva fingerfucking xtc horsesh...</td>\n",
       "      <td>0.0</td>\n",
       "    </tr>\n",
       "    <tr>\n",
       "      <th>2</th>\n",
       "      <td>geocities com televisioncity station 3965 crus...</td>\n",
       "      <td>72</td>\n",
       "      <td>56.73.49.49</td>\n",
       "      <td>114.0</td>\n",
       "      <td>26.0</td>\n",
       "      <td>1.0</td>\n",
       "      <td>0.0</td>\n",
       "      <td>0.0</td>\n",
       "      <td>0.000</td>\n",
       "      <td>liquor pissed moneyshot jacktheripper communis...</td>\n",
       "      <td>0.0</td>\n",
       "    </tr>\n",
       "    <tr>\n",
       "      <th>3</th>\n",
       "      <td>fortunecity com roswell streiber 273 lucas_too...</td>\n",
       "      <td>66</td>\n",
       "      <td>5.196.23.61</td>\n",
       "      <td>34.0</td>\n",
       "      <td>26.0</td>\n",
       "      <td>1.0</td>\n",
       "      <td>1.0</td>\n",
       "      <td>90.5</td>\n",
       "      <td>0.000</td>\n",
       "      <td>Inform personal consequences that. Of cultures...</td>\n",
       "      <td>1.0</td>\n",
       "    </tr>\n",
       "    <tr>\n",
       "      <th>4</th>\n",
       "      <td>svrpage net</td>\n",
       "      <td>23</td>\n",
       "      <td>186.121.242.190</td>\n",
       "      <td>11.0</td>\n",
       "      <td>77.0</td>\n",
       "      <td>1.0</td>\n",
       "      <td>0.0</td>\n",
       "      <td>540.9</td>\n",
       "      <td>340.767</td>\n",
       "      <td>fucktard boom fuckers testicles dumb tinkle ho...</td>\n",
       "      <td>0.0</td>\n",
       "    </tr>\n",
       "  </tbody>\n",
       "</table>\n",
       "</div>"
      ],
      "text/plain": [
       "                                                 url  url_len  \\\n",
       "0                                          ashg org        20   \n",
       "1                                       lara-uk com        23   \n",
       "2  geocities com televisioncity station 3965 crus...       72   \n",
       "3  fortunecity com roswell streiber 273 lucas_too...       66   \n",
       "4                                       svrpage net        23   \n",
       "\n",
       "            ip_add  geo_loc   tld  who_is  https  js_len  js_obf_len  \\\n",
       "0  136.242.100.106    114.0  86.0     0.0    1.0    92.5       0.000   \n",
       "1   115.27.204.145     20.0  26.0     1.0    0.0   553.5     326.565   \n",
       "2      56.73.49.49    114.0  26.0     1.0    0.0     0.0       0.000   \n",
       "3      5.196.23.61     34.0  26.0     1.0    1.0    90.5       0.000   \n",
       "4  186.121.242.190     11.0  77.0     1.0    0.0   540.9     340.767   \n",
       "\n",
       "                                             content  label  \n",
       "0  Lionel messi, overthrow of ferdinand vii durin...    1.0  \n",
       "1  limey nigger's vulva fingerfucking xtc horsesh...    0.0  \n",
       "2  liquor pissed moneyshot jacktheripper communis...    0.0  \n",
       "3  Inform personal consequences that. Of cultures...    1.0  \n",
       "4  fucktard boom fuckers testicles dumb tinkle ho...    0.0  "
      ]
     },
     "execution_count": 42,
     "metadata": {},
     "output_type": "execute_result"
    }
   ],
   "source": [
    "df_reviews['geo_loc'] = OrdinalEncoder().fit_transform(df_reviews.geo_loc.values.reshape(-1,1))\n",
    "df_reviews['tld'] = OrdinalEncoder().fit_transform(df_reviews.tld.values.reshape(-1,1))\n",
    "df_reviews['who_is'] = OrdinalEncoder().fit_transform(df_reviews.who_is.values.reshape(-1,1))\n",
    "df_reviews['https'] = OrdinalEncoder().fit_transform(df_reviews.https.values.reshape(-1,1))\n",
    "df_reviews['label'] = OrdinalEncoder().fit_transform(df_reviews.label.values.reshape(-1,1))\n",
    "\n",
    "# convert url into human readable string that can be tokenized\n",
    "df_reviews['url'] = df_reviews.url.apply(lambda x: ' '.join(x.split('://')[1].strip('www.').replace('.','/').split('/')))\n",
    "df_reviews.head()"
   ]
  },
  {
   "cell_type": "markdown",
   "metadata": {},
   "source": [
    "The textual data in the url and content columns will be tokenized, converted to lower case, and stopwords and punctuation will be removed."
   ]
  },
  {
   "cell_type": "code",
   "execution_count": 43,
   "metadata": {},
   "outputs": [
    {
     "name": "stdout",
     "output_type": "stream",
     "text": [
      "Before Preprocessing:\n",
      "0    Lionel messi, overthrow of ferdinand vii durin...\n",
      "Name: content, dtype: object\n"
     ]
    },
    {
     "name": "stderr",
     "output_type": "stream",
     "text": [
      "100%|██████████| 4000/4000 [03:56<00:00, 16.94it/s]\n",
      "100%|██████████| 4000/4000 [00:01<00:00, 2874.18it/s]"
     ]
    },
    {
     "name": "stdout",
     "output_type": "stream",
     "text": [
      "After Preprocessing:\n",
      "0    lionel messi overthrow ferdinand vii late temp...\n",
      "Name: content, dtype: object\n"
     ]
    },
    {
     "name": "stderr",
     "output_type": "stream",
     "text": [
      "\n"
     ]
    }
   ],
   "source": [
    "print(\"Before Preprocessing:\")\n",
    "print(df_reviews.content.head(1))\n",
    "\n",
    "tqdm.pandas()\n",
    "stop = stopwords.words()\n",
    "\n",
    "df_reviews.content = df_reviews.content.str.replace(\"[^\\w\\s]\", \"\").str.lower()\n",
    "df_reviews.content = df_reviews.content.progress_apply(lambda x: ' '.join([item for item in x.split() \n",
    "                                                               if item not in stop]))\n",
    "df_reviews.url = df_reviews.url.str.replace(\"[^\\w\\s]\", \"\").str.lower()\n",
    "df_reviews.url = df_reviews.url.progress_apply(lambda x: ' '.join([item for item in x.split() \n",
    "                                                               if item not in stop]))\n",
    "\n",
    "print(\"After Preprocessing:\")\n",
    "print(df_reviews.content.head(1))"
   ]
  },
  {
   "cell_type": "markdown",
   "metadata": {},
   "source": [
    "### Label urls and content using tfidf vectorization and clustering"
   ]
  },
  {
   "cell_type": "markdown",
   "metadata": {},
   "source": [
    "To convert the widely varying content of the url and content columns into something more manageable for the decision tree and random forest models, I will label them using mini batch kmeans clustering. First, however, I will convert them into numeric vectors. "
   ]
  },
  {
   "cell_type": "code",
   "execution_count": 44,
   "metadata": {},
   "outputs": [],
   "source": [
    "tfidf = TfidfVectorizer(\n",
    "    min_df = 5,\n",
    "    max_df = 0.95,\n",
    "    max_features = 8000,\n",
    "    stop_words = 'english'\n",
    ")\n",
    "\n",
    "tfidf.fit(df_reviews.url)\n",
    "url_tfidf = tfidf.transform(df_reviews.url)\n",
    "\n",
    "tfidf.fit(df_reviews.content)\n",
    "content_tfidf = tfidf.transform(df_reviews.content)"
   ]
  },
  {
   "cell_type": "markdown",
   "metadata": {},
   "source": [
    "I will use the elbow method to find the optimal number of clusters for each feature."
   ]
  },
  {
   "cell_type": "code",
   "execution_count": 45,
   "metadata": {},
   "outputs": [],
   "source": [
    "def find_optimal_clusters(data, max_k):\n",
    "    k_list = range(2, max_k+1)\n",
    "    \n",
    "    sse = []\n",
    "    for k in k_list:\n",
    "        sse.append(MiniBatchKMeans(n_clusters=k, init_size=1024, batch_size=2048, random_state=20).fit(data).inertia_)\n",
    "       \n",
    "    plt.style.use(\"dark_background\")\n",
    "    f, ax = plt.subplots(1, 1)\n",
    "    ax.plot(k_list, sse, marker='o')\n",
    "    ax.set_xlabel('Cluster Centers')\n",
    "    ax.set_xticks(k_list)\n",
    "    ax.set_xticklabels(k_list)\n",
    "    ax.set_ylabel('SSE')\n",
    "    ax.set_title('SSE by Cluster Center Plot')"
   ]
  },
  {
   "cell_type": "code",
   "execution_count": 46,
   "metadata": {},
   "outputs": [
    {
     "data": {
      "image/png": "[encoded data removed]",
      "text/plain": [
       "<Figure size 432x288 with 1 Axes>"
      ]
     },
     "metadata": {},
     "output_type": "display_data"
    }
   ],
   "source": [
    "find_optimal_clusters(url_tfidf, 20)"
   ]
  },
  {
   "cell_type": "markdown",
   "metadata": {},
   "source": [
    "An elbow can be seen where n_clusters equals eight. A new column, full of the clusters each row is assigned to, will be made."
   ]
  },
  {
   "cell_type": "code",
   "execution_count": 59,
   "metadata": {},
   "outputs": [],
   "source": [
    "df_reviews['url_cluster'] = MiniBatchKMeans(n_clusters=8, init_size=1024, batch_size=2048, \n",
    "                                            random_state=20).fit_predict(url_tfidf)"
   ]
  },
  {
   "cell_type": "code",
   "execution_count": 48,
   "metadata": {},
   "outputs": [
    {
     "data": {
      "image/png": "[encoded data removed]",
      "text/plain": [
       "<Figure size 432x288 with 1 Axes>"
      ]
     },
     "metadata": {},
     "output_type": "display_data"
    }
   ],
   "source": [
    "find_optimal_clusters(content_tfidf, 20)"
   ]
  },
  {
   "cell_type": "markdown",
   "metadata": {},
   "source": [
    "An elbow can be seen where n_clusters equals four. A new column, full of the clusters each row is assigned to, will be made."
   ]
  },
  {
   "cell_type": "code",
   "execution_count": 60,
   "metadata": {},
   "outputs": [],
   "source": [
    "df_reviews['content_cluster'] = MiniBatchKMeans(n_clusters=4, init_size=1024, batch_size=2048, \n",
    "                                            random_state=20).fit_predict(content_tfidf)"
   ]
  },
  {
   "cell_type": "markdown",
   "metadata": {},
   "source": [
    "### Generate a training and test dataset"
   ]
  },
  {
   "cell_type": "markdown",
   "metadata": {},
   "source": [
    "The cleaned, transformed dataset will be split into a training and test set using a 70%/30% split."
   ]
  },
  {
   "cell_type": "code",
   "execution_count": 61,
   "metadata": {},
   "outputs": [],
   "source": [
    "X = df_reviews[['url_cluster', 'url_len', 'geo_loc', 'tld', 'who_is', 'https', 'content_cluster',\n",
    "                'js_len', 'js_obf_len']]\n",
    "y = df_reviews.label\n",
    "\n",
    "X_train, X_test, y_train, y_test = train_test_split(X, y, test_size=0.3, random_state=42)"
   ]
  },
  {
   "cell_type": "markdown",
   "metadata": {},
   "source": [
    "### Model selection"
   ]
  },
  {
   "cell_type": "markdown",
   "metadata": {},
   "source": [
    "For the decision tree, the \"criterion\" and \"splitter\" hyperparameters will be tuned and cross-validation will be performed using the GridSearchCV sklearn module."
   ]
  },
  {
   "cell_type": "code",
   "execution_count": 62,
   "metadata": {},
   "outputs": [
    {
     "data": {
      "text/plain": [
       "GridSearchCV(cv=5, estimator=DecisionTreeClassifier(random_state=42),\n",
       "             param_grid=[{'criterion': ['gini', 'entropy'],\n",
       "                          'splitter': ['best', 'random']}])"
      ]
     },
     "execution_count": 62,
     "metadata": {},
     "output_type": "execute_result"
    }
   ],
   "source": [
    "# Decision Tree\n",
    "param_grid=[{\"criterion\":[\"gini\", \"entropy\"],\n",
    "             \"splitter\":[\"best\", \"random\"]}]\n",
    "grid=GridSearchCV(estimator=DecisionTreeClassifier(random_state=42),param_grid=param_grid,cv=5)\n",
    "grid.fit(X_train,y_train)"
   ]
  },
  {
   "cell_type": "code",
   "execution_count": 63,
   "metadata": {},
   "outputs": [
    {
     "data": {
      "text/plain": [
       "{'criterion': 'gini', 'splitter': 'best'}"
      ]
     },
     "execution_count": 63,
     "metadata": {},
     "output_type": "execute_result"
    }
   ],
   "source": [
    "# Optimal hyperparameters\n",
    "grid.best_params_"
   ]
  },
  {
   "cell_type": "markdown",
   "metadata": {},
   "source": [
    "Training and test accuracies are examined to determine if overfitting or underfitting has occurred."
   ]
  },
  {
   "cell_type": "code",
   "execution_count": 64,
   "metadata": {},
   "outputs": [
    {
     "data": {
      "text/plain": [
       "1.0"
      ]
     },
     "execution_count": 64,
     "metadata": {},
     "output_type": "execute_result"
    }
   ],
   "source": [
    "# training accuracy\n",
    "grid.score(X_train,y_train)"
   ]
  },
  {
   "cell_type": "code",
   "execution_count": 65,
   "metadata": {},
   "outputs": [
    {
     "data": {
      "text/plain": [
       "0.9975"
      ]
     },
     "execution_count": 65,
     "metadata": {},
     "output_type": "execute_result"
    }
   ],
   "source": [
    "# test accuracy\n",
    "grid.score(X_test,y_test)"
   ]
  },
  {
   "cell_type": "markdown",
   "metadata": {},
   "source": [
    "For the random forest, the \"n_estimators\" and \"criterion\" hyperparameters will be tuned and cross-validation will be performed using the GridSearchCV sklearn module."
   ]
  },
  {
   "cell_type": "code",
   "execution_count": 66,
   "metadata": {},
   "outputs": [
    {
     "data": {
      "text/plain": [
       "GridSearchCV(cv=5, estimator=RandomForestClassifier(random_state=42),\n",
       "             param_grid=[{'criterion': ['gini', 'entropy'],\n",
       "                          'n_estimators': [10, 20, 30, 40, 50, 60, 70, 80, 90,\n",
       "                                           100, 110]}])"
      ]
     },
     "execution_count": 66,
     "metadata": {},
     "output_type": "execute_result"
    }
   ],
   "source": [
    "# Random Forest\n",
    "param_grid=[{\"n_estimators\":[x for x in range(10, 120, 10)],\n",
    "             \"criterion\":[\"gini\", \"entropy\"]}]\n",
    "grid=GridSearchCV(estimator=RandomForestClassifier(random_state=42),param_grid=param_grid,cv=5)\n",
    "grid.fit(X_train,y_train)"
   ]
  },
  {
   "cell_type": "code",
   "execution_count": 67,
   "metadata": {},
   "outputs": [
    {
     "data": {
      "text/plain": [
       "{'criterion': 'entropy', 'n_estimators': 90}"
      ]
     },
     "execution_count": 67,
     "metadata": {},
     "output_type": "execute_result"
    }
   ],
   "source": [
    "# Optimal hyperparameters\n",
    "grid.best_params_"
   ]
  },
  {
   "cell_type": "markdown",
   "metadata": {},
   "source": [
    "Training and test accuracies are examined to determine if overfitting or underfitting has occurred."
   ]
  },
  {
   "cell_type": "code",
   "execution_count": 68,
   "metadata": {},
   "outputs": [
    {
     "data": {
      "text/plain": [
       "1.0"
      ]
     },
     "execution_count": 68,
     "metadata": {},
     "output_type": "execute_result"
    }
   ],
   "source": [
    "# training accuracy\n",
    "grid.score(X_train,y_train)"
   ]
  },
  {
   "cell_type": "code",
   "execution_count": 69,
   "metadata": {},
   "outputs": [
    {
     "data": {
      "text/plain": [
       "0.9983333333333333"
      ]
     },
     "execution_count": 69,
     "metadata": {},
     "output_type": "execute_result"
    }
   ],
   "source": [
    "# test accuracy\n",
    "grid.score(X_test,y_test)"
   ]
  },
  {
   "cell_type": "markdown",
   "metadata": {},
   "source": [
    "### Conclusion"
   ]
  },
  {
   "cell_type": "markdown",
   "metadata": {},
   "source": [
    "Both algorithms performed exceptionally well and there is no evidence of overfitting or underfitting. This project serves as validation for using unsupervised learning for labeling textual data and the decision tree and/or random forest algorithms for identifying malicious webpages."
   ]
  }
 ],
 "metadata": {
  "kernelspec": {
   "display_name": "Python 3",
   "language": "python",
   "name": "python3"
  },
  "language_info": {
   "codemirror_mode": {
    "name": "ipython",
    "version": 3
   },
   "file_extension": ".py",
   "mimetype": "text/x-python",
   "name": "python",
   "nbconvert_exporter": "python",
   "pygments_lexer": "ipython3",
   "version": "3.8.6"
  }
 },
 "nbformat": 4,
 "nbformat_minor": 4
}
